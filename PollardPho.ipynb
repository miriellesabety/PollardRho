{
 "cells": [
  {
   "cell_type": "code",
   "execution_count": 1,
   "metadata": {
    "collapsed": false
   },
   "outputs": [
   ],
   "source": [
    "#Problem 1"
   ]
  },
  {
   "cell_type": "code",
   "execution_count": 12,
   "metadata": {
    "collapsed": false
   },
   "outputs": [
   ],
   "source": [
    "def fast2Power(a,n,m):\n",
    "    a1=a\n",
    "    b=1\n",
    "    while true:\n",
    "        if n%2==1:\n",
    "            b=(b*a1)%m\n",
    "        a1=(a1^2)%m\n",
    "        n=floor(n/2)\n",
    "        if n>0:\n",
    "            continue\n",
    "        else:\n",
    "            return b\n",
    "\n",
    "def extendedGCD(a,b):\n",
    "    r0=a\n",
    "    r=b\n",
    "    s0=1\n",
    "    s=0\n",
    "    t0=0\n",
    "    t=1\n",
    "    while r>0:\n",
    "        R=r\n",
    "        S=s\n",
    "        T=t\n",
    "        q=r0//r\n",
    "        r=r0-q*r\n",
    "        s=s0-q*s\n",
    "        t=t0-q*t\n",
    "        r0=R\n",
    "        s0=S\n",
    "        t0=T\n",
    "    return [r0,s0,t0]\n",
    "\n",
    "def multInverse(a,p):\n",
    "    d,u,v=extendedGCD(a,p)\n",
    "    if d!=1:\n",
    "        return \"gcd!=1\"\n",
    "    inverse=u%p\n",
    "    return inverse"
   ]
  },
  {
   "cell_type": "code",
   "execution_count": 13,
   "metadata": {
    "collapsed": false
   },
   "outputs": [
   ],
   "source": [
    "def factorPollardRho(N,s=2):\n",
    "    x0=s\n",
    "    y0=s\n",
    "    factorsN=[]\n",
    "    for i in range(2,N-1):\n",
    "        xi=(x0^2+1)%N\n",
    "        yi=((y0^2+1)^2+1)%N\n",
    "        d,u,v=extendedGCD(xi-yi,N)\n",
    "        if d<N and d>1:\n",
    "            factorsN=factorsN+[d]\n",
    "            break\n",
    "        x0=xi\n",
    "        y0=yi\n",
    "    factorsN=factorsN+[N/factorsN[0]]\n",
    "    return factorsN"
   ]
  },
  {
   "cell_type": "code",
   "execution_count": 31,
   "metadata": {
    "collapsed": false
   },
   "outputs": [
   ],
   "source": [
    "#Problem 2)"
   ]
  },
  {
   "cell_type": "code",
   "execution_count": 5,
   "metadata": {
    "collapsed": false
   },
   "outputs": [
    {
     "data": {
      "text/plain": [
       "[97, 43]"
      ]
     },
     "execution_count": 5,
     "metadata": {
     },
     "output_type": "execute_result"
    }
   ],
   "source": [
    "factorPollardRho(4171)"
   ]
  },
  {
   "cell_type": "code",
   "execution_count": 6,
   "metadata": {
    "collapsed": false
   },
   "outputs": [
    {
     "data": {
      "text/plain": [
       "[218268343, 197728423]"
      ]
     },
     "execution_count": 6,
     "metadata": {
     },
     "output_type": "execute_result"
    }
   ],
   "source": [
    "factorPollardRho(43157855252213089)"
   ]
  },
  {
   "cell_type": "code",
   "execution_count": 8,
   "metadata": {
    "collapsed": false
   },
   "outputs": [
    {
     "data": {
      "text/plain": [
       "[2716276754687, 875132126123509]"
      ]
     },
     "execution_count": 8,
     "metadata": {
     },
     "output_type": "execute_result"
    }
   ],
   "source": [
    "factorPollardRho(2377101051469099400256636683)"
   ]
  },
  {
   "cell_type": "code",
   "execution_count": 50,
   "metadata": {
    "collapsed": false
   },
   "outputs": [
   ],
   "source": [
    "#Problem 3)"
   ]
  },
  {
   "cell_type": "code",
   "execution_count": 9,
   "metadata": {
    "collapsed": false
   },
   "outputs": [
   ],
   "source": [
    "def discretePollardPho(g,h,p):\n",
    "    def f(x):\n",
    "        x=x%p\n",
    "        if x>=0 and x<(p/3):\n",
    "            return (g*x)\n",
    "        if x>=(p/3) and x<((2*p)/3):\n",
    "            return (x^2)\n",
    "        if x>=((2*p)/3) and x<p:\n",
    "            return (h*x)\n",
    "    def alphaF(a,x):\n",
    "        a=a\n",
    "        if x>=0 and x<(p/3):\n",
    "            return (a+1)\n",
    "        if x>=(p/3) and x<((2*p)/3):\n",
    "            return (2*a)\n",
    "        if x>=((2*p)/3) and x<p:\n",
    "            return (a)\n",
    "    def betaF(b,x):\n",
    "        b=b\n",
    "        if x>=0 and x<(p/3):\n",
    "            return (b)\n",
    "        if x>=(p/3) and x<((2*p)/3):\n",
    "            return (2*b)\n",
    "        if x>=((2*p)/3) and x<p:\n",
    "            return (b+1)\n",
    "    x0,y0=1,1\n",
    "    alpha0,beta0,lambda0,delta0=0,0,0,0\n",
    "    xArray=[]\n",
    "    i=0\n",
    "    while True:\n",
    "        xi=f(x0)%p\n",
    "        yi=f(f(y0))%p\n",
    "        fy=f(y0)%p\n",
    "        alphai=alphaF(alpha0,x0)%(p-1)\n",
    "        betai=betaF(beta0,x0)%(p-1)\n",
    "        lambdai=alphaF(alphaF(lambda0,y0),fy)%(p-1)\n",
    "        deltai=betaF(betaF(delta0,y0),fy)%(p-1)\n",
    "        if xi==yi:\n",
    "            break\n",
    "        x0=xi\n",
    "        y0=yi\n",
    "        alpha0=alphai\n",
    "        beta0=betai\n",
    "        delta0=deltai\n",
    "        lambda0=lambdai\n",
    "    u=(alphai-lambdai)%(p-1)\n",
    "    v=(deltai-betai)%(p-1)\n",
    "    d,u0,v0=extendedGCD(v,(p-1))\n",
    "    a=v//d\n",
    "    m=(p-1)//d\n",
    "    values=extendedGCD(a,m)\n",
    "    gcd=values[0]\n",
    "    inversevOverd=multInverse(a,m)\n",
    "    x0=(inversevOverd*(u//d))%((p-1)//d)\n",
    "    solutions=[]\n",
    "    for i in range(0,(p-1)):\n",
    "        x=(x0+(i*((p-1)//d)))\n",
    "        if x>(p-1):\n",
    "            break\n",
    "        solutions=solutions+[x%(p-1)]\n",
    "    for s in solutions:\n",
    "        uniqueSol=(g^s)%p\n",
    "        if uniqueSol==h:\n",
    "            break\n",
    "    return s"
   ]
  },
  {
   "cell_type": "code",
   "execution_count": 0,
   "metadata": {
    "collapsed": false
   },
   "outputs": [
   ],
   "source": [
    "#Problem 4)"
   ]
  },
  {
   "cell_type": "code",
   "execution_count": 10,
   "metadata": {
    "collapsed": false
   },
   "outputs": [
    {
     "data": {
      "text/plain": [
       "37869"
      ]
     },
     "execution_count": 10,
     "metadata": {
     },
     "output_type": "execute_result"
    }
   ],
   "source": [
    "discretePollardPho(19,24717,48611)"
   ]
  },
  {
   "cell_type": "code",
   "execution_count": 11,
   "metadata": {
    "collapsed": false
   },
   "outputs": [
    {
     "data": {
      "text/plain": [
       "255124"
      ]
     },
     "execution_count": 11,
     "metadata": {
     },
     "output_type": "execute_result"
    }
   ],
   "source": [
    "discretePollardPho(29,4417601,5272643)"
   ]
  }
 ],
 "metadata": {
  "kernelspec": {
   "display_name": "SageMath 9.6",
   "language": "sagemath",
   "metadata": {
    "cocalc": {
     "description": "Open-source mathematical software system",
     "priority": 1,
     "url": "https://www.sagemath.org/"
    }
   },
   "name": "sage-9.6",
   "resource_dir": "/ext/jupyter/kernels/sage-9.6"
  },
  "language_info": {
   "codemirror_mode": {
    "name": "ipython",
    "version": 3
   },
   "file_extension": ".py",
   "mimetype": "text/x-python",
   "name": "python",
   "nbconvert_exporter": "python",
   "pygments_lexer": "ipython3",
   "version": "3.10.3"
  }
 },
 "nbformat": 4,
 "nbformat_minor": 4
}